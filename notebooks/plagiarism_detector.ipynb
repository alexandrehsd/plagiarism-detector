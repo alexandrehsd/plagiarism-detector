{
 "cells": [
  {
   "cell_type": "markdown",
   "metadata": {},
   "source": [
    "# Plagiarism detector"
   ]
  },
  {
   "cell_type": "markdown",
   "metadata": {},
   "source": [
    "## Project Setup"
   ]
  },
  {
   "cell_type": "markdown",
   "metadata": {},
   "source": [
    "To start the project, let's set the reference path of the notebook to the root of the project. In that way, it will be easier to deal with filepaths whenever necessary. Also, let's configure log level INFO message."
   ]
  },
  {
   "cell_type": "code",
   "execution_count": 1,
   "metadata": {},
   "outputs": [],
   "source": [
    "import os\n",
    "import pathlib\n",
    "path = os.path.join(pathlib.Path().absolute(), '../')\n",
    "os.chdir(path)\n",
    "\n",
    "import warnings\n",
    "warnings.filterwarnings('ignore')\n",
    "\n",
    "import logging\n",
    "logging.basicConfig(format=\"%(levelname)s:%(message)s\", level=logging.INFO)"
   ]
  },
  {
   "cell_type": "markdown",
   "metadata": {},
   "source": [
    "## Load and prepare the data"
   ]
  },
  {
   "cell_type": "markdown",
   "metadata": {},
   "source": [
    "The first step of course is to load the data. The loading procedure involves iterating through the dataset folder and aggregating labels and records. In the project, for each candidate answer, there are 6 LLM answers and similarity scores between each LLM answer and the candidate answer. \n",
    "\n",
    "So, we are going to approach this, as if we have 6 different records. For example, for the first code challenge question, we have the following structure:\n",
    "\n",
    "```markdown\n",
    "./dataset\n",
    "├── CodeAid Source Codes Labeling.xlsx\n",
    "├── dataset-source-codes\n",
    "    ├── source_code_000\n",
    "        ├── source_code_000.json\n",
    "        ├── source_code_000.java\n",
    "        ├── source_code_000_gpt-3.5-turbo_00.java\n",
    "        ├── source_code_000_gpt-3.5-turbo_01.java\n",
    "        ├── source_code_000_gpt-4_00.java\n",
    "        ├── source_code_000_gpt-4_01.java\n",
    "        ├── source_code_000_gpt-4-turbo_00.java\n",
    "        ├── source_code_000_gpt-4-turbo_01.java\n",
    "    \n",
    "```\n",
    "\n",
    "As you can see, for `source_code_000`, the candidate answer is in the `source_code_000.java`, while there are 6 gpt answers in the other files. Thus, what we meant previously was that we are going to structure the dataset for the problem not as a single datapoint, but as six. Therefore, the dataset records generated for the source_code_000, for example, is something in the lines of:\n",
    "\n",
    "| candidate source code | LLM source code | plagiariasm score |\n",
    "|-----------------------|-----------------|-------------------|\n",
    "| source_code_000.java | source_code_000_gpt-3.5-turbo_00.java | 0.0 | \n",
    "| source_code_000.java | source_code_000_gpt-3.5-turbo_01.java | 0.0 | \n",
    "| source_code_000.java | source_code_000_gpt-4_00.java | 0.0 | \n",
    "| source_code_000.java | source_code_000_gpt-4_01.java | 0.0 | \n",
    "| source_code_000.java | source_code_000_gpt-4-turbo_00.java | 0.0 | \n",
    "| source_code_000.java | source_code_000_gpt-4-turbo_01.java | 0.0 |\n",
    "\n",
    "Ok, now we are in good shape to actually do that."
   ]
  },
  {
   "cell_type": "code",
   "execution_count": 2,
   "metadata": {},
   "outputs": [],
   "source": [
    "import os\n",
    "import re\n",
    "import json\n",
    "import pandas as pd\n",
    "from pandas import DataFrame\n",
    "from typing import List, Dict, Any"
   ]
  },
  {
   "cell_type": "code",
   "execution_count": 3,
   "metadata": {},
   "outputs": [],
   "source": [
    "def read_file(file_path: str) -> str:\n",
    "    with open(file_path, 'r') as file:\n",
    "        return file.read()\n",
    "    \n",
    "def list_files_with_regex(folder_path: str, pattern: str) -> List[str]:\n",
    "    matched_files = []\n",
    "    regex = re.compile(pattern)\n",
    "\n",
    "    for root, dirs, files in os.walk(folder_path):\n",
    "        for file in files:\n",
    "            if regex.match(file):\n",
    "                matched_files.append(os.path.join(root, file))\n",
    "\n",
    "    return matched_files\n",
    "\n",
    "def load_data(dataset_path: str, label: DataFrame) -> Dict[str, Any]:\n",
    "    data = {\n",
    "        'coding_problem_id': [],\n",
    "        'coding_question': [],\n",
    "        'candidate_answer': [],\n",
    "        'llm_answer_id': [],\n",
    "        'llm_answer': [],\n",
    "        'plagiarism_score': []\n",
    "    }\n",
    "\n",
    "    for index, row in label.iterrows():\n",
    "        problem_id = row['coding_problem_id']\n",
    "        llm_answer_id = row['llm_answer_id']\n",
    "        plagiarism_score = row['plagiarism_score']\n",
    "\n",
    "        folder = os.path.join(dataset_path, problem_id)\n",
    "        \n",
    "        json_file_path = os.path.join(folder, f'{problem_id}.json')\n",
    "        with open(json_file_path, 'r') as json_file:\n",
    "            coding_question = json.load(json_file)['question']\n",
    "        \n",
    "        # identify code file extensions\n",
    "        pattern = fr'{problem_id}\\..*'  # Example pattern\n",
    "        matched_files = list_files_with_regex(folder, pattern)\n",
    "        file_code_extension = [file.split(\".\")[-1] for file in matched_files if file.split(\".\")[-1] != \"json\"][0]\n",
    "                \n",
    "        candidate_base_path = os.path.join(folder, problem_id)\n",
    "        candidate_file_path = f\"{candidate_base_path}.{file_code_extension}\"\n",
    "        candidate_answer = read_file(candidate_file_path)\n",
    "\n",
    "        # Find the LLM's code file with any of the possible extensions\n",
    "        llm_base_path = os.path.join(folder, f'{problem_id}_{llm_answer_id}')\n",
    "         \n",
    "        llm_file_path = f\"{llm_base_path}.{file_code_extension}\"\n",
    "        llm_answer = read_file(llm_file_path)\n",
    "\n",
    "        data['coding_problem_id'].append(problem_id)\n",
    "        data['coding_question'].append(coding_question)\n",
    "        data['candidate_answer'].append(candidate_answer)\n",
    "        data['llm_answer_id'].append(llm_answer_id)\n",
    "        data['llm_answer'].append(llm_answer)\n",
    "        data['plagiarism_score'].append(plagiarism_score)\n",
    "\n",
    "    return data"
   ]
  },
  {
   "cell_type": "markdown",
   "metadata": {},
   "source": [
    "Once, we've successfully load the data into the desired format, we can convert it to an appropriate format to huggingface models. "
   ]
  },
  {
   "cell_type": "code",
   "execution_count": 4,
   "metadata": {},
   "outputs": [],
   "source": [
    "# Path to the dataset folder containing source codes\n",
    "dataset_path = './dataset/dataset-source-codes'\n",
    "\n",
    "# Load the labels from the Excel file\n",
    "labels = pd.read_excel('./dataset/CodeAid Source Codes Labeling.xlsx', sheet_name='v3')\n",
    "\n",
    "data = load_data(dataset_path, labels)"
   ]
  },
  {
   "cell_type": "code",
   "execution_count": 5,
   "metadata": {},
   "outputs": [],
   "source": [
    "from datasets import Dataset, DatasetDict\n",
    "dataset = DatasetDict({'data': Dataset.from_dict(data)})"
   ]
  },
  {
   "cell_type": "code",
   "execution_count": 294,
   "metadata": {},
   "outputs": [
    {
     "data": {
      "text/html": [
       "<div>\n",
       "<style scoped>\n",
       "    .dataframe tbody tr th:only-of-type {\n",
       "        vertical-align: middle;\n",
       "    }\n",
       "\n",
       "    .dataframe tbody tr th {\n",
       "        vertical-align: top;\n",
       "    }\n",
       "\n",
       "    .dataframe thead th {\n",
       "        text-align: right;\n",
       "    }\n",
       "</style>\n",
       "<table border=\"1\" class=\"dataframe\">\n",
       "  <thead>\n",
       "    <tr style=\"text-align: right;\">\n",
       "      <th></th>\n",
       "      <th>coding_problem_id</th>\n",
       "      <th>coding_question</th>\n",
       "      <th>candidate_answer</th>\n",
       "      <th>llm_answer_id</th>\n",
       "      <th>llm_answer</th>\n",
       "      <th>plagiarism_score</th>\n",
       "    </tr>\n",
       "  </thead>\n",
       "  <tbody>\n",
       "    <tr>\n",
       "      <th>373</th>\n",
       "      <td>source_code_062</td>\n",
       "      <td>Create a PHP script that will accept a string ...</td>\n",
       "      <td>&lt;?php\\nfunction getTopThreeWords($text) {\\n// ...</td>\n",
       "      <td>gpt-3.5-turbo_01</td>\n",
       "      <td>&lt;?php\\n\\nfunction findTopThreeWords($input) {\\...</td>\n",
       "      <td>0.3</td>\n",
       "    </tr>\n",
       "    <tr>\n",
       "      <th>374</th>\n",
       "      <td>source_code_062</td>\n",
       "      <td>Create a PHP script that will accept a string ...</td>\n",
       "      <td>&lt;?php\\nfunction getTopThreeWords($text) {\\n// ...</td>\n",
       "      <td>gpt-4_00</td>\n",
       "      <td>function findTopWords($input) {\\n    // Remove...</td>\n",
       "      <td>0.3</td>\n",
       "    </tr>\n",
       "    <tr>\n",
       "      <th>375</th>\n",
       "      <td>source_code_062</td>\n",
       "      <td>Create a PHP script that will accept a string ...</td>\n",
       "      <td>&lt;?php\\nfunction getTopThreeWords($text) {\\n// ...</td>\n",
       "      <td>gpt-4_01</td>\n",
       "      <td>&lt;?php\\n    function mostCommonWords($input) {\\...</td>\n",
       "      <td>0.3</td>\n",
       "    </tr>\n",
       "    <tr>\n",
       "      <th>376</th>\n",
       "      <td>source_code_062</td>\n",
       "      <td>Create a PHP script that will accept a string ...</td>\n",
       "      <td>&lt;?php\\nfunction getTopThreeWords($text) {\\n// ...</td>\n",
       "      <td>gpt-4-turbo_00</td>\n",
       "      <td>&lt;?php\\n\\nfunction getTopThreeWords($text) {\\n ...</td>\n",
       "      <td>0.3</td>\n",
       "    </tr>\n",
       "    <tr>\n",
       "      <th>377</th>\n",
       "      <td>source_code_062</td>\n",
       "      <td>Create a PHP script that will accept a string ...</td>\n",
       "      <td>&lt;?php\\nfunction getTopThreeWords($text) {\\n// ...</td>\n",
       "      <td>gpt-4-turbo_01</td>\n",
       "      <td>&lt;?php\\n\\n// Function to get the top three most...</td>\n",
       "      <td>0.3</td>\n",
       "    </tr>\n",
       "  </tbody>\n",
       "</table>\n",
       "</div>"
      ],
      "text/plain": [
       "    coding_problem_id                                    coding_question  \\\n",
       "373   source_code_062  Create a PHP script that will accept a string ...   \n",
       "374   source_code_062  Create a PHP script that will accept a string ...   \n",
       "375   source_code_062  Create a PHP script that will accept a string ...   \n",
       "376   source_code_062  Create a PHP script that will accept a string ...   \n",
       "377   source_code_062  Create a PHP script that will accept a string ...   \n",
       "\n",
       "                                      candidate_answer     llm_answer_id  \\\n",
       "373  <?php\\nfunction getTopThreeWords($text) {\\n// ...  gpt-3.5-turbo_01   \n",
       "374  <?php\\nfunction getTopThreeWords($text) {\\n// ...          gpt-4_00   \n",
       "375  <?php\\nfunction getTopThreeWords($text) {\\n// ...          gpt-4_01   \n",
       "376  <?php\\nfunction getTopThreeWords($text) {\\n// ...    gpt-4-turbo_00   \n",
       "377  <?php\\nfunction getTopThreeWords($text) {\\n// ...    gpt-4-turbo_01   \n",
       "\n",
       "                                            llm_answer  plagiarism_score  \n",
       "373  <?php\\n\\nfunction findTopThreeWords($input) {\\...               0.3  \n",
       "374  function findTopWords($input) {\\n    // Remove...               0.3  \n",
       "375  <?php\\n    function mostCommonWords($input) {\\...               0.3  \n",
       "376  <?php\\n\\nfunction getTopThreeWords($text) {\\n ...               0.3  \n",
       "377  <?php\\n\\n// Function to get the top three most...               0.3  "
      ]
     },
     "execution_count": 294,
     "metadata": {},
     "output_type": "execute_result"
    }
   ],
   "source": [
    "data_df = DataFrame(data)\n",
    "data_df.tail()"
   ]
  },
  {
   "cell_type": "markdown",
   "metadata": {},
   "source": [
    "## Building a baseline model"
   ]
  },
  {
   "cell_type": "markdown",
   "metadata": {},
   "source": [
    "Information on the dataset used to pre-train the model and tokenizer: https://github.com/github/CodeSearchNet\n",
    "\n",
    "original paper: https://arxiv.org/abs/2002.08155"
   ]
  },
  {
   "cell_type": "code",
   "execution_count": 186,
   "metadata": {},
   "outputs": [],
   "source": [
    "import torch\n",
    "import torch.nn.functional as F\n",
    "\n",
    "from torch import Tensor\n",
    "\n",
    "from transformers import AutoModel, AutoTokenizer, PreTrainedTokenizerBase\n",
    "from transformers.tokenization_utils_base import BatchEncoding\n"
   ]
  },
  {
   "cell_type": "code",
   "execution_count": 7,
   "metadata": {},
   "outputs": [],
   "source": [
    "model_ckpt = 'microsoft/codebert-base' \n",
    "\n",
    "tokenizer = AutoTokenizer.from_pretrained(model_ckpt)"
   ]
  },
  {
   "cell_type": "code",
   "execution_count": 8,
   "metadata": {},
   "outputs": [
    {
     "data": {
      "text/plain": [
       "(50265, 512, ['input_ids', 'attention_mask'])"
      ]
     },
     "execution_count": 8,
     "metadata": {},
     "output_type": "execute_result"
    }
   ],
   "source": [
    "tokenizer.vocab_size, tokenizer.model_max_length, tokenizer.model_input_names"
   ]
  },
  {
   "cell_type": "code",
   "execution_count": 18,
   "metadata": {},
   "outputs": [],
   "source": [
    "def tokenize(batch: Dict[str, Any], tokenizer: PreTrainedTokenizerBase, target: str) -> BatchEncoding:\n",
    "    return tokenizer(batch[target], padding=True, truncation=True)"
   ]
  },
  {
   "cell_type": "code",
   "execution_count": null,
   "metadata": {},
   "outputs": [],
   "source": [
    "device = torch.device(\"cuda\" if torch.cuda.is_available() else \"cpu\")\n",
    "model = AutoModel.from_pretrained(model_ckpt).to(device)"
   ]
  },
  {
   "cell_type": "markdown",
   "metadata": {},
   "source": [
    "The output of `model(**inputs)` has shape `[batch_size, n_tokens, hidden_dim]`. Thus, there is a hidden_dim-dimensional vector for each token. Note that the first and last tokens are marks for the beginning and end of sentence, [CLS] and [SEP]."
   ]
  },
  {
   "cell_type": "code",
   "execution_count": 189,
   "metadata": {},
   "outputs": [],
   "source": [
    "def extract_hidden_states(batch: BatchEncoding) -> Dict[str, Tensor]:\n",
    "    # place model inputs on the GPU\n",
    "    inputs = {k: v.to(device) for k, v in batch.items() if k in tokenizer.model_input_names}\n",
    "    \n",
    "    # extract last hidden states\n",
    "    with torch.no_grad():\n",
    "        last_hidden_state = model(**inputs).last_hidden_state\n",
    "\n",
    "    # aggregate all token embeddings with the mean\n",
    "    return {\"hidden_state\": last_hidden_state.cpu().mean(dim=1)}"
   ]
  },
  {
   "cell_type": "code",
   "execution_count": 190,
   "metadata": {},
   "outputs": [],
   "source": [
    "candidate_answers_batch = tokenizer(data[\"candidate_answer\"], padding=True, truncation=True, return_tensors=\"pt\")\n",
    "llm_answers_batch = tokenizer(data[\"llm_answer\"], padding=True, truncation=True, return_tensors=\"pt\")"
   ]
  },
  {
   "cell_type": "code",
   "execution_count": 191,
   "metadata": {},
   "outputs": [],
   "source": [
    "candidate_hidden_states = extract_hidden_states(candidate_answers_batch)\n",
    "llm_hidden_states = extract_hidden_states(llm_answers_batch)"
   ]
  },
  {
   "cell_type": "code",
   "execution_count": 193,
   "metadata": {},
   "outputs": [],
   "source": [
    "# Normalize the tensors for cosine similarity\n",
    "candidate_answers_embed = F.normalize(candidate_hidden_states[\"hidden_state\"], p=2, dim=1)\n",
    "llm_answers_embed = F.normalize(llm_hidden_states[\"hidden_state\"], p=2, dim=1)\n",
    "\n",
    "# Cosine Similarity\n",
    "cosine_similarity = F.cosine_similarity(candidate_answers_embed, llm_answers_embed)\n",
    "similarity_metric = (cosine_similarity + 1) / 2"
   ]
  },
  {
   "cell_type": "markdown",
   "metadata": {},
   "source": [
    "## Evaluation metrics"
   ]
  },
  {
   "cell_type": "markdown",
   "metadata": {},
   "source": [
    "Some key methods and metrics are considered when evaluating a model that is trained over soft labels and outputs some comparable similarity metric. Let \n",
    "\n",
    "- $n$ is the number of samples\n",
    "- $y_i$ is the soft label (interpreted as the true extento to which the candidate code answers was generated by an LLM)\n",
    "- $p_i$ is the similarity measure (interpreted as the probabibility that the candidate code answers was generated by an LLM inferred by the model)\n",
    "\n",
    "For this problem, we are going to evaluate the models with respect to the following metrics:\n",
    "\n",
    "1. **Log Loss (Cross-Entropy Loss)**\n",
    "\n",
    "    For soft labels, the log loss can be calculated as:\n",
    "    \n",
    "    $\\text{Log Loss} = -\\frac{1}{n} \\sum_{i=1}^{n} y_{i} \\log(p_{i}) + (1 - y_{i}) \\log(1 - p_{i}) $, where \n",
    "\n",
    "\n",
    "    the log loss is unbounded but ideally, we desired it to be as close to 0 as it can gets.\n",
    "\n",
    "2. **Kullback-Leibler Divergence (KL Divergence)**\n",
    "\n",
    "    KL divergence measures how one probability distribution diverges from a second, expected probability distribution. For evaluating soft labels, the KL divergence can be used as:\n",
    "\n",
    "    $KL(Y \\parallel P) = \\sum_{i=1}^{n} y_{i} \\log \\frac{y_{i}}{p_{i}} + (1 - y_{i}) \\log \\frac{1 - y_{i}}{1 - p_{i}}$, where $n$, $y_i$, and $p_i$ can be interpreted as aforementioned.\n",
    "\n",
    "    a KL divergence of 0 means that the conditional distributions of P and Y are the same. So, our goal here is to find a model that minimizes KL divergence.\n",
    "\n",
    "3. **Brier Score**\n",
    "\n",
    "    Evaluating how well the predicted probabilities are calibrated can be important. Brier score is one such metric, adapting its formula for soft labels, we get:\n",
    "\n",
    "    $\\text{Brier Score} = \\frac{1}{n} \\sum_{i=1}^{n} (p_i - y_i)^2 + [(1-p_i) - (1-y_i)]^2$\n",
    "\n",
    "    the denominator is an adaptation to properly scale the score taking into account the symmetry of the probability differences.\n",
    "\n",
    "4. **Calibration Diagram**\n",
    "\n",
    "    The calibration diagram can be thought as a Reliability Diagram. Originally, reliability diagrams are used in the context of binary classification with hard labels. But since we are using soft labels here, let's adopt the name \"calibration diagram\" name to avoid confusion.\n",
    "\n",
    "    A Calibration diagram can be thought as a graphical tool to analyse and inspect how much the predicted similarity probabilities are close to each other. The x-axis represent the true probability and the y-axis represent the predicted probabilities. Ideally, we want the model probability to match the true similarity score, so in the graph we use a black-dashed diagonal line to represent the ideal scenario. Data points over this line are overestimated predictions, and under the line are underestimated predictions.\n",
    "\n",
    "<!-- Reference: -->\n",
    "<!-- kl divergence -->\n",
    "<!-- [1](https://math.stackexchange.com/questions/2604566/kl-divergence-between-two-multivariate-bernoulli-distribution#:~:text=The%20KL%20divergence%20between%20two%20such%20distributions%20is%20DK,z)q(z).) -->\n",
    "\n",
    "<!-- brier score -->\n",
    "<!-- https://medium.com/sigmaeffe-ml/brier-score-mean-squared-error-for-classification-f655c0948eab -->\n",
    "\n",
    "<!-- reliability diagram -->\n",
    "<!-- https://towardsdatascience.com/introduction-to-reliability-diagrams-for-probability-calibration-ed785b3f5d44 -->"
   ]
  },
  {
   "cell_type": "code",
   "execution_count": null,
   "metadata": {},
   "outputs": [],
   "source": [
    "import matplotlib.pyplot as plt\n",
    "import seaborn as sns"
   ]
  },
  {
   "cell_type": "code",
   "execution_count": 256,
   "metadata": {},
   "outputs": [],
   "source": [
    "def log_loss(predictions: Tensor, soft_labels: Tensor) -> Tensor:\n",
    "    \"\"\"\n",
    "    Compute the log loss (cross-entropy loss) for soft labels.\n",
    "    \n",
    "    Args:\n",
    "    predictions (torch.Tensor): Predicted probabilities.\n",
    "    soft_labels (torch.Tensor): Soft labels (target distributions).\n",
    "    \n",
    "    Returns:\n",
    "    torch.Tensor: Log loss (float).\n",
    "    \"\"\"\n",
    "    epsilon = 1e-15\n",
    "    log_loss = -torch.sum(soft_labels * torch.log(predictions + epsilon) + (1 - soft_labels) * torch.log(1 - predictions + epsilon)) / predictions.size(0)\n",
    "    return log_loss\n",
    "\n",
    "\n",
    "def kl_divergence(predictions: Tensor, soft_labels: Tensor) -> Tensor:\n",
    "    \"\"\"\n",
    "    Compute the KL divergence between predicted probabilities and soft labels.\n",
    "    \n",
    "    Args:\n",
    "    predictions (torch.Tensor): Predicted probabilities.\n",
    "    soft_labels (torch.Tensor): Soft labels (target distributions).\n",
    "    \n",
    "    Returns:\n",
    "    torch.Tensor: KL divergence (float).\n",
    "    \"\"\"\n",
    "    epsilon = 1e-15\n",
    "    kl_div = torch.sum(\n",
    "        soft_labels * torch.log((soft_labels + epsilon) / (predictions + epsilon)) +\n",
    "        (1 - soft_labels) * torch.log((1 - soft_labels + epsilon) / (1 - predictions + epsilon))\n",
    "        ) / predictions.size(0)\n",
    "    \n",
    "    return kl_div\n",
    "\n",
    "\n",
    "def brier_score(predictions: Tensor, soft_labels: Tensor) -> Tensor:\n",
    "    \"\"\"\n",
    "    Compute the Brier score for predicted probabilities and soft labels.\n",
    "    \n",
    "    Args:\n",
    "    predictions (torch.Tensor): Predicted probabilities.\n",
    "    soft_labels (torch.Tensor): Soft labels (target distributions).\n",
    "    \n",
    "    Returns:\n",
    "    torch.Tensor: Brier score (float).\n",
    "    \"\"\"\n",
    "    brier = torch.sum(\n",
    "        (predictions - soft_labels) ** 2 + \n",
    "        ((1 - predictions) - (1 - soft_labels)) ** 2,\n",
    "        ) / predictions.size(0)\n",
    "    return brier"
   ]
  },
  {
   "cell_type": "code",
   "execution_count": 261,
   "metadata": {},
   "outputs": [],
   "source": [
    "def plot_calibration_diagram(predictions, soft_labels):\n",
    "    \n",
    "    # Create the plot\n",
    "    fig, ax = plt.subplots(1, 1, figsize=(8, 8))\n",
    "\n",
    "    # Create a scatter plot\n",
    "    ax.scatter(x=soft_labels, y=predictions, s=8)\n",
    "\n",
    "    # Add a diagonal black dashed line from (0, 0) to (1, 1)\n",
    "    ax.plot([0, 1], [0, 1], ls=\"--\", color=\"black\", label=\"Perfect Calibration\")\n",
    "\n",
    "    # Add a regression line using seaborn\n",
    "    sns.regplot(x=soft_labels, y=predictions, scatter=False, ax=ax, ci=None, color=\"blue\", label=\"Regression Line: $y_i$ vs $p_i$\")\n",
    "    \n",
    "    # Add the shaded area below the diagonal line\n",
    "    ax.fill_between([0, 1], [0, 1], color=\"lightblue\", alpha=0.5)\n",
    "\n",
    "    # Add the text \"Underestimation zone\" in the middle of the shaded area\n",
    "    ax.text(0.75, 0.25, \"Underestimation zone\", horizontalalignment='center', verticalalignment='center', fontsize=10, color='black', weight='bold')\n",
    "    \n",
    "    # Add the shaded area above the diagonal line\n",
    "    ax.fill_between([0, 1], [0, 1], [1, 1], color=\"lightcoral\", alpha=0.5)\n",
    "    \n",
    "    # Add the text \"Overestimation zone\" in the middle of the shaded area above the line\n",
    "    ax.text(0.25, 0.75, \"Overestimation zone\", horizontalalignment='center', verticalalignment='center', fontsize=10, color='black', weight='bold')\n",
    "\n",
    "    ax.legend()\n",
    "\n",
    "    # Add titles and labels\n",
    "    ax.set_title('Calibration Diagram: True Similarity Scores vs Predicted')\n",
    "    ax.set_xlabel('True Probability of Plagiarism')\n",
    "    ax.set_ylabel('Predicted Probability of Plagiarism')\n",
    "    ax.set_xlim(0, 1)\n",
    "    ax.set_ylim(0, 1)\n",
    "\n",
    "    # Show the plot\n",
    "    plt.show()"
   ]
  },
  {
   "cell_type": "markdown",
   "metadata": {},
   "source": [
    "### Baseline model Evaluation"
   ]
  },
  {
   "cell_type": "code",
   "execution_count": 267,
   "metadata": {},
   "outputs": [],
   "source": [
    "baseline_predictions = similarity_metric\n",
    "plagiarism_scores = Tensor(data_df[\"plagiarism_score\"])"
   ]
  },
  {
   "cell_type": "code",
   "execution_count": 289,
   "metadata": {},
   "outputs": [],
   "source": [
    "metrics = DataFrame(data=[[\"Baseline\", \n",
    "                           log_loss(baseline_predictions, plagiarism_scores).numpy(),\n",
    "                           kl_divergence(baseline_predictions, plagiarism_scores).numpy(),\n",
    "                           brier_score(baseline_predictions, plagiarism_scores).numpy()]], \n",
    "                    columns=[\"Model\", \"Log-Loss\", \"KL Divergence\", \"Brier Score\"])"
   ]
  },
  {
   "cell_type": "code",
   "execution_count": 290,
   "metadata": {},
   "outputs": [
    {
     "data": {
      "text/html": [
       "<div>\n",
       "<style scoped>\n",
       "    .dataframe tbody tr th:only-of-type {\n",
       "        vertical-align: middle;\n",
       "    }\n",
       "\n",
       "    .dataframe tbody tr th {\n",
       "        vertical-align: top;\n",
       "    }\n",
       "\n",
       "    .dataframe thead th {\n",
       "        text-align: right;\n",
       "    }\n",
       "</style>\n",
       "<table border=\"1\" class=\"dataframe\">\n",
       "  <thead>\n",
       "    <tr style=\"text-align: right;\">\n",
       "      <th></th>\n",
       "      <th>Model</th>\n",
       "      <th>Log-Loss</th>\n",
       "      <th>KL Divergence</th>\n",
       "      <th>Brier Score</th>\n",
       "    </tr>\n",
       "  </thead>\n",
       "  <tbody>\n",
       "    <tr>\n",
       "      <th>0</th>\n",
       "      <td>Baseline</td>\n",
       "      <td>2.4341607</td>\n",
       "      <td>2.0156503</td>\n",
       "      <td>0.97693676</td>\n",
       "    </tr>\n",
       "  </tbody>\n",
       "</table>\n",
       "</div>"
      ],
      "text/plain": [
       "      Model   Log-Loss KL Divergence Brier Score\n",
       "0  Baseline  2.4341607     2.0156503  0.97693676"
      ]
     },
     "execution_count": 290,
     "metadata": {},
     "output_type": "execute_result"
    }
   ],
   "source": [
    "metrics"
   ]
  },
  {
   "cell_type": "code",
   "execution_count": 293,
   "metadata": {},
   "outputs": [
    {
     "data": {
      "image/png": "[encoded data removed]",
      "text/plain": [
       "<Figure size 800x800 with 1 Axes>"
      ]
     },
     "metadata": {},
     "output_type": "display_data"
    }
   ],
   "source": [
    "plot_calibration_diagram(baseline_predictions.numpy(), plagiarism_scores.numpy())"
   ]
  },
  {
   "cell_type": "markdown",
   "metadata": {},
   "source": [
    "## Approaching the problem as a classification problem"
   ]
  },
  {
   "cell_type": "code",
   "execution_count": 10,
   "metadata": {},
   "outputs": [
    {
     "data": {
      "application/vnd.jupyter.widget-view+json": {
       "model_id": "a362023981fc454ea3055830c01d72e1",
       "version_major": 2,
       "version_minor": 0
      },
      "text/plain": [
       "Map:   0%|          | 0/378 [00:00<?, ? examples/s]"
      ]
     },
     "metadata": {},
     "output_type": "display_data"
    },
    {
     "name": "stderr",
     "output_type": "stream",
     "text": [
      "Some weights of the model checkpoint at microsoft/codebert-base were not used when initializing RobertaForSequenceClassification: ['pooler.dense.bias', 'pooler.dense.weight']\n",
      "- This IS expected if you are initializing RobertaForSequenceClassification from the checkpoint of a model trained on another task or with another architecture (e.g. initializing a BertForSequenceClassification model from a BertForPreTraining model).\n",
      "- This IS NOT expected if you are initializing RobertaForSequenceClassification from the checkpoint of a model that you expect to be exactly identical (initializing a BertForSequenceClassification model from a BertForSequenceClassification model).\n",
      "Some weights of RobertaForSequenceClassification were not initialized from the model checkpoint at microsoft/codebert-base and are newly initialized: ['classifier.dense.bias', 'classifier.out_proj.weight', 'classifier.out_proj.bias', 'classifier.dense.weight']\n",
      "You should probably TRAIN this model on a down-stream task to be able to use it for predictions and inference.\n",
      "/Users/alexandre.dias/.pyenv/versions/3.9.13/envs/plagiarism/lib/python3.9/site-packages/transformers/optimization.py:391: FutureWarning: This implementation of AdamW is deprecated and will be removed in a future version. Use the PyTorch implementation torch.optim.AdamW instead, or set `no_deprecation_warning=True` to disable this warning\n",
      "  warnings.warn(\n"
     ]
    },
    {
     "data": {
      "application/vnd.jupyter.widget-view+json": {
       "model_id": "f9c19a6006a0446c9413a0dde175b812",
       "version_major": 2,
       "version_minor": 0
      },
      "text/plain": [
       "  0%|          | 0/152 [00:00<?, ?it/s]"
      ]
     },
     "metadata": {},
     "output_type": "display_data"
    },
    {
     "name": "stdout",
     "output_type": "stream",
     "text": [
      "{'loss': 0.0856, 'learning_rate': 1.5131578947368422e-05, 'epoch': 0.97}\n"
     ]
    },
    {
     "data": {
      "application/vnd.jupyter.widget-view+json": {
       "model_id": "5fc3615221ff45519809cd207f6359d9",
       "version_major": 2,
       "version_minor": 0
      },
      "text/plain": [
       "  0%|          | 0/10 [00:00<?, ?it/s]"
      ]
     },
     "metadata": {},
     "output_type": "display_data"
    },
    {
     "name": "stdout",
     "output_type": "stream",
     "text": [
      "{'eval_loss': 0.0620560459792614, 'eval_bce_loss': 0.7420142889022827, 'eval_runtime': 32.083, 'eval_samples_per_second': 2.369, 'eval_steps_per_second': 0.312, 'epoch': 1.0}\n",
      "{'loss': 0.0642, 'learning_rate': 1.0263157894736844e-05, 'epoch': 1.95}\n"
     ]
    },
    {
     "data": {
      "application/vnd.jupyter.widget-view+json": {
       "model_id": "220db55eda8d403eb5d43b842b9b2618",
       "version_major": 2,
       "version_minor": 0
      },
      "text/plain": [
       "  0%|          | 0/10 [00:00<?, ?it/s]"
      ]
     },
     "metadata": {},
     "output_type": "display_data"
    },
    {
     "name": "stdout",
     "output_type": "stream",
     "text": [
      "{'eval_loss': 0.04691432788968086, 'eval_bce_loss': 0.7578571438789368, 'eval_runtime': 31.9112, 'eval_samples_per_second': 2.382, 'eval_steps_per_second': 0.313, 'epoch': 2.0}\n",
      "{'loss': 0.0493, 'learning_rate': 5.394736842105264e-06, 'epoch': 2.92}\n"
     ]
    },
    {
     "data": {
      "application/vnd.jupyter.widget-view+json": {
       "model_id": "0eb0d3e8b53b49d9b89474ab83341f2a",
       "version_major": 2,
       "version_minor": 0
      },
      "text/plain": [
       "  0%|          | 0/10 [00:00<?, ?it/s]"
      ]
     },
     "metadata": {},
     "output_type": "display_data"
    },
    {
     "name": "stdout",
     "output_type": "stream",
     "text": [
      "{'eval_loss': 0.029737316071987152, 'eval_bce_loss': 0.7310646176338196, 'eval_runtime': 30.6926, 'eval_samples_per_second': 2.476, 'eval_steps_per_second': 0.326, 'epoch': 3.0}\n",
      "{'loss': 0.0394, 'learning_rate': 5.263157894736843e-07, 'epoch': 3.89}\n"
     ]
    },
    {
     "data": {
      "application/vnd.jupyter.widget-view+json": {
       "model_id": "e08d5cc523944654b8d67903c8083639",
       "version_major": 2,
       "version_minor": 0
      },
      "text/plain": [
       "  0%|          | 0/10 [00:00<?, ?it/s]"
      ]
     },
     "metadata": {},
     "output_type": "display_data"
    },
    {
     "name": "stdout",
     "output_type": "stream",
     "text": [
      "{'eval_loss': 0.035116441547870636, 'eval_bce_loss': 0.7453985810279846, 'eval_runtime': 31.5348, 'eval_samples_per_second': 2.41, 'eval_steps_per_second': 0.317, 'epoch': 4.0}\n",
      "{'train_runtime': 2172.8179, 'train_samples_per_second': 0.556, 'train_steps_per_second': 0.07, 'train_loss': 0.059355654410625756, 'epoch': 4.0}\n"
     ]
    },
    {
     "data": {
      "text/plain": [
       "TrainOutput(global_step=152, training_loss=0.059355654410625756, metrics={'train_runtime': 2172.8179, 'train_samples_per_second': 0.556, 'train_steps_per_second': 0.07, 'train_loss': 0.059355654410625756, 'epoch': 4.0})"
      ]
     },
     "execution_count": 10,
     "metadata": {},
     "output_type": "execute_result"
    }
   ],
   "source": [
    "from datasets import Dataset, DatasetDict\n",
    "from transformers import TrainingArguments, Trainer\n",
    "from transformers.trainer_utils import PredictionOutput\n",
    "import numpy as np\n",
    "from transformers import AutoModelForSequenceClassification\n",
    "import torch\n",
    "from transformers import AutoTokenizer, PreTrainedTokenizerBase\n",
    "\n",
    "def tokenize(batch: Dict[str, Any], tokenizer: PreTrainedTokenizerBase) -> Dict[str, Any]:\n",
    "    return tokenizer(batch[\"candidate_answer\"], batch[\"llm_answer\"], padding=True, truncation=True)\n",
    "\n",
    "# Prepare the final datasets for training\n",
    "def prepare_dataset(dataset):\n",
    "    return {\n",
    "        'input_ids': dataset['input_ids'],\n",
    "        'attention_mask': dataset['attention_mask'],\n",
    "        'labels': dataset['plagiarism_score']\n",
    "    }\n",
    "    \n",
    "def compute_metrics(pred: PredictionOutput):\n",
    "    labels = pred.label_ids\n",
    "    preds = pred.predictions\n",
    "    preds = torch.sigmoid(torch.tensor(preds)).squeeze().numpy()\n",
    "    # labels = labels.astype(np.float32)\n",
    "    bce_loss = torch.nn.functional.binary_cross_entropy(torch.tensor(preds), torch.tensor(labels)).item()\n",
    "    \n",
    "    return {\n",
    "        'bce_loss': bce_loss\n",
    "    }\n",
    "\n",
    "model_ckpt = 'microsoft/codebert-base'  # https://arxiv.org/abs/2002.08155\n",
    "\n",
    "tokenizer = AutoTokenizer.from_pretrained(model_ckpt)\n",
    "\n",
    "# Apply tokenization\n",
    "dataset_encoded = dataset.map(lambda batch: tokenize(batch, tokenizer=tokenizer), batched=True, batch_size=None)\n",
    "\n",
    "# Split the tokenized dataset into training and validation sets\n",
    "train_size = 0.8\n",
    "data_split = dataset_encoded['data'].train_test_split(test_size=1 - train_size, seed=42)\n",
    "\n",
    "train_dataset = data_split['train']\n",
    "test_dataset = data_split['test']\n",
    "\n",
    "train_dataset = Dataset.from_dict(prepare_dataset(train_dataset))\n",
    "test_dataset = Dataset.from_dict(prepare_dataset(test_dataset))\n",
    "\n",
    "device = torch.device(\"cuda\" if torch.cuda.is_available() else \"cpu\")\n",
    "num_labels = 1\n",
    "batch_size = 8\n",
    "\n",
    "model = (AutoModelForSequenceClassification.from_pretrained(model_ckpt, num_labels=num_labels)).to(device)\n",
    "\n",
    "logging_steps = len(train_dataset) // batch_size\n",
    "model_name = f\"{model_ckpt}-finetuned-plagiarism-detector\"\n",
    "\n",
    "training_args = TrainingArguments(\n",
    "    output_dir='./results',\n",
    "    evaluation_strategy='epoch',\n",
    "    per_device_train_batch_size=batch_size,\n",
    "    per_device_eval_batch_size=batch_size,\n",
    "    learning_rate=2e-5,\n",
    "    num_train_epochs=4,\n",
    "    weight_decay=0.01,\n",
    "    disable_tqdm=False,\n",
    "    logging_steps=logging_steps,\n",
    "    logging_dir='./logs',\n",
    "    log_level=\"error\",\n",
    "    push_to_hub=False,\n",
    ")\n",
    "\n",
    "trainer = Trainer(\n",
    "    model=model,\n",
    "    args=training_args,\n",
    "    train_dataset=train_dataset,\n",
    "    eval_dataset=test_dataset,\n",
    "    compute_metrics=compute_metrics\n",
    ")\n",
    "\n",
    "trainer.train()"
   ]
  },
  {
   "cell_type": "code",
   "execution_count": 11,
   "metadata": {},
   "outputs": [
    {
     "data": {
      "application/vnd.jupyter.widget-view+json": {
       "model_id": "7455b1681219464fa1dc7c942e7f503c",
       "version_major": 2,
       "version_minor": 0
      },
      "text/plain": [
       "  0%|          | 0/10 [00:00<?, ?it/s]"
      ]
     },
     "metadata": {},
     "output_type": "display_data"
    },
    {
     "data": {
      "text/plain": [
       "{'eval_loss': 0.035116441547870636,\n",
       " 'eval_bce_loss': 0.7453985810279846,\n",
       " 'eval_runtime': 31.9598,\n",
       " 'eval_samples_per_second': 2.378,\n",
       " 'eval_steps_per_second': 0.313,\n",
       " 'epoch': 4.0}"
      ]
     },
     "execution_count": 11,
     "metadata": {},
     "output_type": "execute_result"
    }
   ],
   "source": [
    "trainer.evaluate()"
   ]
  },
  {
   "cell_type": "code",
   "execution_count": 12,
   "metadata": {},
   "outputs": [
    {
     "data": {
      "application/vnd.jupyter.widget-view+json": {
       "model_id": "6b1448ec9458406ba89c25a72955f90f",
       "version_major": 2,
       "version_minor": 0
      },
      "text/plain": [
       "  0%|          | 0/10 [00:00<?, ?it/s]"
      ]
     },
     "metadata": {},
     "output_type": "display_data"
    }
   ],
   "source": [
    "predictions = trainer.predict(test_dataset)"
   ]
  },
  {
   "cell_type": "code",
   "execution_count": 13,
   "metadata": {},
   "outputs": [
    {
     "data": {
      "text/plain": [
       "array([0.3930961 , 0.8634592 , 0.16469261, 0.746274  , 0.13865308,\n",
       "       0.1996778 , 0.653329  , 0.19531119, 0.38509056, 0.47864306,\n",
       "       0.11862659, 0.6610681 , 0.86826795, 0.17517197, 0.158575  ,\n",
       "       0.11012702, 0.5433612 , 0.8625751 , 0.3215732 , 0.16806713,\n",
       "       0.19278869, 0.1506332 , 0.14956008, 0.4293191 , 0.737346  ,\n",
       "       0.41072756, 0.62097764, 0.7381109 , 0.2410653 , 0.5631111 ,\n",
       "       0.36526242, 0.2287712 , 0.08497661, 0.09735943, 0.24918431,\n",
       "       0.36087218, 0.16220614, 0.20494469, 0.3322226 , 0.6925293 ,\n",
       "       0.3432966 , 0.49110362, 0.27398896, 0.2568942 , 0.912964  ,\n",
       "       0.5194032 , 0.40022746, 0.2393306 , 0.15419307, 0.23904046,\n",
       "       0.21986014, 0.6844419 , 0.28976542, 0.30446285, 0.34175473,\n",
       "       0.17702398, 0.769835  , 0.5104274 , 0.612761  , 0.5608801 ,\n",
       "       0.25381184, 0.6300004 , 0.18937711, 0.4787764 , 0.23688185,\n",
       "       0.5500476 , 0.3480649 , 0.3880127 , 0.28318018, 0.2906976 ,\n",
       "       0.4207696 , 0.26245087, 0.19694048, 0.11652718, 0.9254092 ,\n",
       "       0.10598027], dtype=float32)"
      ]
     },
     "execution_count": 13,
     "metadata": {},
     "output_type": "execute_result"
    }
   ],
   "source": [
    "predictions.predictions.squeeze()"
   ]
  },
  {
   "cell_type": "code",
   "execution_count": 14,
   "metadata": {},
   "outputs": [
    {
     "data": {
      "text/plain": [
       "array([0.3, 0.8, 0.2, 0.8, 0.2, 0.2, 0.4, 0. , 0.1, 0.1, 0. , 0.8, 0.9,\n",
       "       0.2, 0.2, 0.2, 0.5, 0.8, 0.1, 0. , 0.4, 0. , 0.2, 0.2, 0.4, 0.7,\n",
       "       0.4, 0.8, 0. , 0.9, 0.6, 0. , 0. , 0.1, 0.1, 0.1, 0.2, 0.3, 0. ,\n",
       "       0.4, 0.4, 0.1, 0. , 0.2, 0.9, 0.4, 0.1, 0.3, 0. , 0. , 0.2, 0.4,\n",
       "       0.2, 0.2, 0.1, 0. , 0.9, 0.8, 0.5, 0.4, 0.4, 0.6, 0.1, 0.1, 0.2,\n",
       "       0.4, 0.2, 0.2, 0. , 0.2, 0.2, 0. , 0.2, 0. , 0.9, 0. ],\n",
       "      dtype=float32)"
      ]
     },
     "execution_count": 14,
     "metadata": {},
     "output_type": "execute_result"
    }
   ],
   "source": [
    "predictions.label_ids"
   ]
  },
  {
   "cell_type": "code",
   "execution_count": 15,
   "metadata": {},
   "outputs": [
    {
     "data": {
      "text/plain": [
       "array([-0.093, -0.063,  0.035,  0.054,  0.061,  0.   , -0.253, -0.195,\n",
       "       -0.285, -0.379, -0.119,  0.139,  0.032,  0.025,  0.041,  0.09 ,\n",
       "       -0.043, -0.063, -0.222, -0.168,  0.207, -0.151,  0.05 , -0.229,\n",
       "       -0.337,  0.289, -0.221,  0.062, -0.241,  0.337,  0.235, -0.229,\n",
       "       -0.085,  0.003, -0.149, -0.261,  0.038,  0.095, -0.332, -0.293,\n",
       "        0.057, -0.391, -0.274, -0.057, -0.013, -0.119, -0.3  ,  0.061,\n",
       "       -0.154, -0.239, -0.02 , -0.284, -0.09 , -0.104, -0.242, -0.177,\n",
       "        0.13 ,  0.29 , -0.113, -0.161,  0.146, -0.03 , -0.089, -0.379,\n",
       "       -0.037, -0.15 , -0.148, -0.188, -0.283, -0.091, -0.221, -0.262,\n",
       "        0.003, -0.117, -0.025, -0.106], dtype=float32)"
      ]
     },
     "execution_count": 15,
     "metadata": {},
     "output_type": "execute_result"
    }
   ],
   "source": [
    "np.round(predictions.label_ids - predictions.predictions.squeeze(), 3)"
   ]
  },
  {
   "cell_type": "code",
   "execution_count": 16,
   "metadata": {},
   "outputs": [
    {
     "data": {
      "text/plain": [
       "0.15468092"
      ]
     },
     "execution_count": 16,
     "metadata": {},
     "output_type": "execute_result"
    }
   ],
   "source": [
    "np.mean(np.abs(predictions.label_ids - predictions.predictions.squeeze()))"
   ]
  },
  {
   "cell_type": "code",
   "execution_count": 17,
   "metadata": {},
   "outputs": [
    {
     "data": {
      "text/plain": [
       "{'test_loss': 0.035116441547870636,\n",
       " 'test_bce_loss': 0.7453985810279846,\n",
       " 'test_runtime': 31.0536,\n",
       " 'test_samples_per_second': 2.447,\n",
       " 'test_steps_per_second': 0.322}"
      ]
     },
     "execution_count": 17,
     "metadata": {},
     "output_type": "execute_result"
    }
   ],
   "source": [
    "predictions.metrics"
   ]
  },
  {
   "cell_type": "code",
   "execution_count": 18,
   "metadata": {},
   "outputs": [
    {
     "data": {
      "application/vnd.jupyter.widget-view+json": {
       "model_id": "163b8cb402d7420580a864d80035a489",
       "version_major": 2,
       "version_minor": 0
      },
      "text/plain": [
       "  0%|          | 0/10 [00:00<?, ?it/s]"
      ]
     },
     "metadata": {},
     "output_type": "display_data"
    },
    {
     "data": {
      "text/plain": [
       "{'eval_loss': 0.035116441547870636,\n",
       " 'eval_bce_loss': 0.7453985810279846,\n",
       " 'eval_runtime': 30.9251,\n",
       " 'eval_samples_per_second': 2.458,\n",
       " 'eval_steps_per_second': 0.323,\n",
       " 'epoch': 4.0}"
      ]
     },
     "execution_count": 18,
     "metadata": {},
     "output_type": "execute_result"
    }
   ],
   "source": [
    "trainer.evaluate()"
   ]
  },
  {
   "cell_type": "code",
   "execution_count": 19,
   "metadata": {},
   "outputs": [
    {
     "data": {
      "image/png": "[encoded data removed]",
      "text/plain": [
       "<Figure size 800x800 with 1 Axes>"
      ]
     },
     "metadata": {},
     "output_type": "display_data"
    }
   ],
   "source": [
    "import matplotlib.pyplot as plt\n",
    "\n",
    "fig, ax = plt.subplots(1, 1, figsize=(8, 8))\n",
    "\n",
    "# Create a scatter plot\n",
    "ax.scatter(predictions.predictions.squeeze(), predictions.label_ids, s=8)\n",
    "\n",
    "# Add titles and labels\n",
    "ax.set_title('Similarity scores: true vs predicted')\n",
    "ax.set_xlabel('Predicted probability')\n",
    "ax.set_ylabel('True probability')\n",
    "ax.set_xlim(0, 1)\n",
    "ax.set_ylim(0, 1)\n",
    "\n",
    "# Show the plot\n",
    "plt.show()"
   ]
  },
  {
   "cell_type": "markdown",
   "metadata": {},
   "source": [
    "## Siamese networks and triplet loss"
   ]
  },
  {
   "cell_type": "code",
   "execution_count": 20,
   "metadata": {},
   "outputs": [],
   "source": [
    "# model definition\n",
    "from transformers import AutoModel, AutoTokenizer\n",
    "import torch\n",
    "import torch.nn as nn\n",
    "import torch.nn.functional as F\n",
    "from torch.utils.data import DataLoader\n",
    "from tqdm import tqdm\n"
   ]
  },
  {
   "cell_type": "code",
   "execution_count": 22,
   "metadata": {},
   "outputs": [],
   "source": [
    "# Prepare the dataset with triplets\n",
    "def create_triplets(df, threshold=0.5):\n",
    "    triplets = []\n",
    "    for i, row in df.iterrows():\n",
    "        anchor = row['candidate_answer']\n",
    "        \n",
    "        # Select a positive example: an LLM answer with high plagiarism score\n",
    "        positive_indices = df[df['plagiarism_score'] > threshold].index\n",
    "        if not positive_indices.empty:\n",
    "            positive_index = np.random.choice(positive_indices)\n",
    "            positive = df.at[positive_index, 'llm_answer']\n",
    "        else:\n",
    "            continue  # Skip if no positive example is found\n",
    "        \n",
    "        # Select a negative example: an LLM answer with low plagiarism score\n",
    "        negative_indices = df[df['plagiarism_score'] <= threshold].index\n",
    "        if not negative_indices.empty:\n",
    "            negative_index = np.random.choice(negative_indices)\n",
    "            negative = df.at[negative_index, 'llm_answer']\n",
    "        else:\n",
    "            continue  # Skip if no negative example is found\n",
    "        \n",
    "        triplets.append((anchor, positive, negative))\n",
    "    \n",
    "    return pd.DataFrame(triplets, columns=['anchor', 'positive', 'negative'])\n",
    "\n",
    "\n",
    "# Tokenization function\n",
    "def tokenize(batch: Dict[str, Any], tokenizer: PreTrainedTokenizerBase) -> Dict[str, Any]:\n",
    "    anchor = tokenizer(batch['anchor'], padding=True, truncation=True, return_tensors=\"pt\")\n",
    "    positive = tokenizer(batch['positive'], padding=True, truncation=True, return_tensors=\"pt\")\n",
    "    negative = tokenizer(batch['negative'], padding=True, truncation=True, return_tensors=\"pt\")\n",
    "    return {\n",
    "        'anchor_input_ids': anchor['input_ids'].squeeze(),\n",
    "        'anchor_attention_mask': anchor['attention_mask'].squeeze(),\n",
    "        'positive_input_ids': positive['input_ids'].squeeze(),\n",
    "        'positive_attention_mask': positive['attention_mask'].squeeze(),\n",
    "        'negative_input_ids': negative['input_ids'].squeeze(),\n",
    "        'negative_attention_mask': negative['attention_mask'].squeeze(),\n",
    "    }\n",
    "    \n",
    "\n",
    "# Prepare the final datasets for training\n",
    "def prepare_dataset(dataset):\n",
    "    return {\n",
    "        'anchor_input_ids': dataset['anchor_input_ids'],\n",
    "        'anchor_attention_mask': dataset['anchor_attention_mask'],\n",
    "        'positive_input_ids': dataset['positive_input_ids'],\n",
    "        'positive_attention_mask': dataset['positive_attention_mask'],\n",
    "        'negative_input_ids': dataset['negative_input_ids'],\n",
    "        'negative_attention_mask': dataset['negative_attention_mask']\n",
    "    }\n",
    "\n",
    "\n",
    "# Define collate function for DataLoader\n",
    "def collate_fn(batch):\n",
    "    return {\n",
    "        'anchor_input_ids': torch.stack([torch.tensor(item['anchor_input_ids']) for item in batch]),\n",
    "        'anchor_attention_mask': torch.stack([torch.tensor(item['anchor_attention_mask']) for item in batch]),\n",
    "        'positive_input_ids': torch.stack([torch.tensor(item['positive_input_ids']) for item in batch]),\n",
    "        'positive_attention_mask': torch.stack([torch.tensor(item['positive_attention_mask']) for item in batch]),\n",
    "        'negative_input_ids': torch.stack([torch.tensor(item['negative_input_ids']) for item in batch]),\n",
    "        'negative_attention_mask': torch.stack([torch.tensor(item['negative_attention_mask']) for item in batch])\n",
    "    }\n",
    "\n",
    "\n",
    "# Define the Siamese Network class\n",
    "class SiameseNetwork(nn.Module):\n",
    "    def __init__(self, model_name):\n",
    "        super(SiameseNetwork, self).__init__()\n",
    "        self.encoder = AutoModel.from_pretrained(model_name)\n",
    "    \n",
    "    def forward(self, input_ids, attention_mask):\n",
    "        outputs = self.encoder(input_ids=input_ids, attention_mask=attention_mask)\n",
    "        return outputs.last_hidden_state[:, 0, :]  # Use the representation of [CLS] token\n",
    "\n",
    "\n",
    "# Define the TripletLoss class\n",
    "class TripletLoss(nn.Module):\n",
    "    def __init__(self, margin=1.0):\n",
    "        super(TripletLoss, self).__init__()\n",
    "        self.margin = margin\n",
    "\n",
    "    def forward(self, anchor, positive, negative):\n",
    "        positive_distance = F.pairwise_distance(anchor, positive, p=2)\n",
    "        negative_distance = F.pairwise_distance(anchor, negative, p=2)\n",
    "        loss = torch.relu(positive_distance - negative_distance + self.margin)\n",
    "        return loss.mean()"
   ]
  },
  {
   "cell_type": "code",
   "execution_count": 25,
   "metadata": {},
   "outputs": [
    {
     "name": "stderr",
     "output_type": "stream",
     "text": [
      "/Users/alexandre.dias/.pyenv/versions/3.9.13/envs/plagiarism/lib/python3.9/site-packages/huggingface_hub/file_download.py:1132: FutureWarning: `resume_download` is deprecated and will be removed in version 1.0.0. Downloads always resume when possible. If you want to force a new download, use `force_download=True`.\n",
      "  warnings.warn(\n"
     ]
    },
    {
     "data": {
      "application/vnd.jupyter.widget-view+json": {
       "model_id": "dbf4be737d5746f492f7ff23b1cad676",
       "version_major": 2,
       "version_minor": 0
      },
      "text/plain": [
       "Map:   0%|          | 0/378 [00:00<?, ? examples/s]"
      ]
     },
     "metadata": {},
     "output_type": "display_data"
    },
    {
     "name": "stderr",
     "output_type": "stream",
     "text": [
      " 25%|██▌       | 1/4 [09:14<27:44, 554.72s/it]"
     ]
    },
    {
     "name": "stdout",
     "output_type": "stream",
     "text": [
      "Epoch 1, Loss: 1.6820170402526855\n"
     ]
    },
    {
     "name": "stderr",
     "output_type": "stream",
     "text": [
      " 50%|█████     | 2/4 [19:30<19:41, 590.71s/it]"
     ]
    },
    {
     "name": "stdout",
     "output_type": "stream",
     "text": [
      "Epoch 2, Loss: 0.7623371839523315\n"
     ]
    },
    {
     "name": "stderr",
     "output_type": "stream",
     "text": [
      " 75%|███████▌  | 3/4 [29:44<10:01, 601.35s/it]"
     ]
    },
    {
     "name": "stdout",
     "output_type": "stream",
     "text": [
      "Epoch 3, Loss: 0.655194541811943\n"
     ]
    },
    {
     "name": "stderr",
     "output_type": "stream",
     "text": [
      "100%|██████████| 4/4 [39:00<00:00, 585.13s/it]"
     ]
    },
    {
     "name": "stdout",
     "output_type": "stream",
     "text": [
      "Epoch 4, Loss: 0.7736387133598328\n"
     ]
    },
    {
     "name": "stderr",
     "output_type": "stream",
     "text": [
      "\n"
     ]
    }
   ],
   "source": [
    "# Assuming you have a dataframe `df` with columns 'candidate_answer', 'llm_answer', and 'plagiarism_score'\n",
    "df = DataFrame(data)\n",
    "df_triplets = create_triplets(df)\n",
    "dataset = Dataset.from_pandas(df_triplets)\n",
    "dataset_dict = DatasetDict({'data': dataset})\n",
    "\n",
    "# Instantiate the tokenizer\n",
    "model_ckpt = 'microsoft/codebert-base'\n",
    "tokenizer = AutoTokenizer.from_pretrained(model_ckpt)\n",
    "\n",
    "# Apply tokenization\n",
    "dataset_encoded = dataset_dict['data'].map(lambda batch: tokenize(batch, tokenizer), batched=True, batch_size=None)#, remove_columns=['anchor', 'positive', 'negative'])\n",
    "\n",
    "# Split the tokenized dataset into training and validation sets\n",
    "train_size = 0.2\n",
    "data_split = dataset_encoded.train_test_split(test_size=1 - train_size, seed=42)\n",
    "\n",
    "train_dataset = Dataset.from_dict(prepare_dataset(data_split['train']))\n",
    "test_dataset = Dataset.from_dict(prepare_dataset(data_split['test']))\n",
    "\n",
    "batch_size = 8\n",
    "train_loader = DataLoader(train_dataset, batch_size=8, shuffle=True, collate_fn=collate_fn)\n",
    "test_loader = DataLoader(test_dataset, batch_size=8, shuffle=False, collate_fn=collate_fn)\n",
    "\n",
    "# Instantiate the model, optimizer, and loss function\n",
    "device = torch.device(\"cuda\" if torch.cuda.is_available() else \"cpu\")\n",
    "\n",
    "model = SiameseNetwork(model_ckpt).to(device)\n",
    "optimizer = torch.optim.Adam(model.parameters(), lr=2e-5)\n",
    "criterion = TripletLoss(margin=1.0)\n",
    "\n",
    "# Training loop\n",
    "model.train()\n",
    "for epoch in tqdm(range(4)):  # Change number of epochs as needed\n",
    "    total_loss = 0\n",
    "    for batch in train_loader:\n",
    "        optimizer.zero_grad()\n",
    "        \n",
    "        anchor_outputs = model(batch['anchor_input_ids'].to(device), batch['anchor_attention_mask'].to(device))\n",
    "        positive_outputs = model(batch['positive_input_ids'].to(device), batch['positive_attention_mask'].to(device))\n",
    "        negative_outputs = model(batch['negative_input_ids'].to(device), batch['negative_attention_mask'].to(device))\n",
    "        \n",
    "        loss = criterion(anchor_outputs, positive_outputs, negative_outputs)\n",
    "        loss.backward()\n",
    "        optimizer.step()\n",
    "        \n",
    "        total_loss += loss.item()\n",
    "    \n",
    "    print(f'Epoch {epoch + 1}, Loss: {total_loss / len(train_loader)}')"
   ]
  },
  {
   "cell_type": "code",
   "execution_count": 26,
   "metadata": {},
   "outputs": [
    {
     "data": {
      "text/plain": [
       "SiameseNetwork(\n",
       "  (encoder): RobertaModel(\n",
       "    (embeddings): RobertaEmbeddings(\n",
       "      (word_embeddings): Embedding(50265, 768, padding_idx=1)\n",
       "      (position_embeddings): Embedding(514, 768, padding_idx=1)\n",
       "      (token_type_embeddings): Embedding(1, 768)\n",
       "      (LayerNorm): LayerNorm((768,), eps=1e-05, elementwise_affine=True)\n",
       "      (dropout): Dropout(p=0.1, inplace=False)\n",
       "    )\n",
       "    (encoder): RobertaEncoder(\n",
       "      (layer): ModuleList(\n",
       "        (0-11): 12 x RobertaLayer(\n",
       "          (attention): RobertaAttention(\n",
       "            (self): RobertaSelfAttention(\n",
       "              (query): Linear(in_features=768, out_features=768, bias=True)\n",
       "              (key): Linear(in_features=768, out_features=768, bias=True)\n",
       "              (value): Linear(in_features=768, out_features=768, bias=True)\n",
       "              (dropout): Dropout(p=0.1, inplace=False)\n",
       "            )\n",
       "            (output): RobertaSelfOutput(\n",
       "              (dense): Linear(in_features=768, out_features=768, bias=True)\n",
       "              (LayerNorm): LayerNorm((768,), eps=1e-05, elementwise_affine=True)\n",
       "              (dropout): Dropout(p=0.1, inplace=False)\n",
       "            )\n",
       "          )\n",
       "          (intermediate): RobertaIntermediate(\n",
       "            (dense): Linear(in_features=768, out_features=3072, bias=True)\n",
       "            (intermediate_act_fn): GELUActivation()\n",
       "          )\n",
       "          (output): RobertaOutput(\n",
       "            (dense): Linear(in_features=3072, out_features=768, bias=True)\n",
       "            (LayerNorm): LayerNorm((768,), eps=1e-05, elementwise_affine=True)\n",
       "            (dropout): Dropout(p=0.1, inplace=False)\n",
       "          )\n",
       "        )\n",
       "      )\n",
       "    )\n",
       "    (pooler): RobertaPooler(\n",
       "      (dense): Linear(in_features=768, out_features=768, bias=True)\n",
       "      (activation): Tanh()\n",
       "    )\n",
       "  )\n",
       ")"
      ]
     },
     "execution_count": 26,
     "metadata": {},
     "output_type": "execute_result"
    }
   ],
   "source": [
    "model.eval()"
   ]
  },
  {
   "cell_type": "code",
   "execution_count": 27,
   "metadata": {},
   "outputs": [],
   "source": [
    "def prepare_input(text, tokenizer):\n",
    "    encoding = tokenizer(text, padding=True, truncation=True, return_tensors=\"pt\")\n",
    "    input_ids = encoding['input_ids'].to(device)\n",
    "    attention_mask = encoding['attention_mask'].to(device)\n",
    "    return input_ids, attention_mask\n",
    "\n",
    "def compute_similarity(anchor_text, compare_text, model, tokenizer):\n",
    "    anchor_input_ids, anchor_attention_mask = prepare_input(anchor_text, tokenizer)\n",
    "    compare_input_ids, compare_attention_mask = prepare_input(compare_text, tokenizer)\n",
    "    \n",
    "    with torch.no_grad():\n",
    "        anchor_output = model(anchor_input_ids, anchor_attention_mask)\n",
    "        compare_output = model(compare_input_ids, compare_attention_mask)\n",
    "    \n",
    "    similarity = F.cosine_similarity(anchor_output, compare_output)\n",
    "    return similarity.item()\n",
    "\n"
   ]
  },
  {
   "cell_type": "code",
   "execution_count": 28,
   "metadata": {},
   "outputs": [
    {
     "data": {
      "text/plain": [
       "Dataset({\n",
       "    features: ['anchor', 'positive', 'negative', 'anchor_input_ids', 'anchor_attention_mask', 'positive_input_ids', 'positive_attention_mask', 'negative_input_ids', 'negative_attention_mask'],\n",
       "    num_rows: 303\n",
       "})"
      ]
     },
     "execution_count": 28,
     "metadata": {},
     "output_type": "execute_result"
    }
   ],
   "source": [
    "data_split[\"test\"]"
   ]
  },
  {
   "cell_type": "code",
   "execution_count": 29,
   "metadata": {},
   "outputs": [
    {
     "name": "stdout",
     "output_type": "stream",
     "text": [
      "Similarity Score: 0.9966973066329956\n"
     ]
    }
   ],
   "source": [
    "# Example usage\n",
    "anchor_text = \"def add(a, b): return a + b\"\n",
    "compare_text = \"def print_hello_world(): print('hello world')\"\n",
    "\n",
    "similarity_score = compute_similarity(anchor_text, compare_text, model, tokenizer)\n",
    "print(f'Similarity Score: {similarity_score}')"
   ]
  },
  {
   "cell_type": "code",
   "execution_count": 30,
   "metadata": {},
   "outputs": [
    {
     "name": "stderr",
     "output_type": "stream",
     "text": [
      "100%|██████████| 38/38 [13:36<00:00, 21.49s/it]\n"
     ]
    },
    {
     "name": "stdout",
     "output_type": "stream",
     "text": [
      "                                                anchor  positive_similarity  \\\n",
      "0    [0, 50254, 28043, 50118, 35435, 120, 14323, 15...             0.991161   \n",
      "1    [0, 49179, 44619, 1640, 39006, 43, 6015, 8317,...             0.972400   \n",
      "2    [0, 47888, 12803, 13360, 25522, 50118, 1437, 5...             0.930107   \n",
      "3    [0, 42653, 49378, 579, 16637, 10643, 28012, 41...             0.974560   \n",
      "4    [0, 41975, 30001, 6, 25522, 304, 13360, 35524,...             0.971747   \n",
      "..                                                 ...                  ...   \n",
      "298  [0, 35435, 3438, 34965, 2911, 14263, 4771, 272...             0.955246   \n",
      "299  [0, 41975, 128, 46181, 35, 4825, 12158, 73, 36...             0.941888   \n",
      "300  [0, 35435, 3438, 34965, 2911, 14263, 4771, 272...             0.932254   \n",
      "301  [0, 46797, 1215, 8458, 5457, 46679, 3340, 523,...             0.992617   \n",
      "302  [0, 5499, 3765, 39825, 35, 246, 4, 398, 50118,...             0.987245   \n",
      "\n",
      "     negative_similarity  \n",
      "0               0.973718  \n",
      "1               0.969579  \n",
      "2               0.981869  \n",
      "3               0.988642  \n",
      "4               0.975740  \n",
      "..                   ...  \n",
      "298             0.968775  \n",
      "299             0.987334  \n",
      "300             0.927451  \n",
      "301             0.928959  \n",
      "302             0.950752  \n",
      "\n",
      "[303 rows x 3 columns]\n"
     ]
    }
   ],
   "source": [
    "# Compute similarity scores for the test dataset\n",
    "results = []\n",
    "\n",
    "for batch in tqdm(test_loader):\n",
    "    anchor_outputs = model(batch['anchor_input_ids'].to(device), batch['anchor_attention_mask'].to(device))\n",
    "    positive_outputs = model(batch['positive_input_ids'].to(device), batch['positive_attention_mask'].to(device))\n",
    "    negative_outputs = model(batch['negative_input_ids'].to(device), batch['negative_attention_mask'].to(device))\n",
    "    \n",
    "    with torch.no_grad():\n",
    "        positive_similarity = F.cosine_similarity(anchor_outputs, positive_outputs).cpu().numpy()\n",
    "        negative_similarity = F.cosine_similarity(anchor_outputs, negative_outputs).cpu().numpy()\n",
    "    \n",
    "    for i in range(len(anchor_outputs)):\n",
    "        results.append({\n",
    "            'anchor': batch['anchor_input_ids'][i].cpu().numpy(),\n",
    "            'positive_similarity': positive_similarity[i],\n",
    "            'negative_similarity': negative_similarity[i]\n",
    "        })\n",
    "\n",
    "# Convert results to DataFrame\n",
    "results_df = pd.DataFrame(results)\n",
    "print(results_df)"
   ]
  },
  {
   "cell_type": "code",
   "execution_count": 32,
   "metadata": {},
   "outputs": [
    {
     "data": {
      "text/html": [
       "<div>\n",
       "<style scoped>\n",
       "    .dataframe tbody tr th:only-of-type {\n",
       "        vertical-align: middle;\n",
       "    }\n",
       "\n",
       "    .dataframe tbody tr th {\n",
       "        vertical-align: top;\n",
       "    }\n",
       "\n",
       "    .dataframe thead th {\n",
       "        text-align: right;\n",
       "    }\n",
       "</style>\n",
       "<table border=\"1\" class=\"dataframe\">\n",
       "  <thead>\n",
       "    <tr style=\"text-align: right;\">\n",
       "      <th></th>\n",
       "      <th>positive_similarity</th>\n",
       "      <th>negative_similarity</th>\n",
       "    </tr>\n",
       "  </thead>\n",
       "  <tbody>\n",
       "    <tr>\n",
       "      <th>count</th>\n",
       "      <td>303.000000</td>\n",
       "      <td>303.000000</td>\n",
       "    </tr>\n",
       "    <tr>\n",
       "      <th>mean</th>\n",
       "      <td>0.967651</td>\n",
       "      <td>0.950894</td>\n",
       "    </tr>\n",
       "    <tr>\n",
       "      <th>std</th>\n",
       "      <td>0.023597</td>\n",
       "      <td>0.034736</td>\n",
       "    </tr>\n",
       "    <tr>\n",
       "      <th>min</th>\n",
       "      <td>0.850540</td>\n",
       "      <td>0.813169</td>\n",
       "    </tr>\n",
       "    <tr>\n",
       "      <th>25%</th>\n",
       "      <td>0.956277</td>\n",
       "      <td>0.930781</td>\n",
       "    </tr>\n",
       "    <tr>\n",
       "      <th>50%</th>\n",
       "      <td>0.973614</td>\n",
       "      <td>0.961339</td>\n",
       "    </tr>\n",
       "    <tr>\n",
       "      <th>75%</th>\n",
       "      <td>0.986068</td>\n",
       "      <td>0.977350</td>\n",
       "    </tr>\n",
       "    <tr>\n",
       "      <th>max</th>\n",
       "      <td>0.998662</td>\n",
       "      <td>0.997254</td>\n",
       "    </tr>\n",
       "  </tbody>\n",
       "</table>\n",
       "</div>"
      ],
      "text/plain": [
       "       positive_similarity  negative_similarity\n",
       "count           303.000000           303.000000\n",
       "mean              0.967651             0.950894\n",
       "std               0.023597             0.034736\n",
       "min               0.850540             0.813169\n",
       "25%               0.956277             0.930781\n",
       "50%               0.973614             0.961339\n",
       "75%               0.986068             0.977350\n",
       "max               0.998662             0.997254"
      ]
     },
     "execution_count": 32,
     "metadata": {},
     "output_type": "execute_result"
    }
   ],
   "source": [
    "results_df.describe()"
   ]
  },
  {
   "cell_type": "code",
   "execution_count": null,
   "metadata": {},
   "outputs": [],
   "source": []
  }
 ],
 "metadata": {
  "kernelspec": {
   "display_name": "plagiarism-detector",
   "language": "python",
   "name": "python3"
  },
  "language_info": {
   "codemirror_mode": {
    "name": "ipython",
    "version": 3
   },
   "file_extension": ".py",
   "mimetype": "text/x-python",
   "name": "python",
   "nbconvert_exporter": "python",
   "pygments_lexer": "ipython3",
   "version": "3.9.13"
  }
 },
 "nbformat": 4,
 "nbformat_minor": 2
}
